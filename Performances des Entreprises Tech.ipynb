{
 "cells": [
  {
   "cell_type": "markdown",
   "metadata": {},
   "source": [
    "# Analyse des Performances des Entreprises Tech\n",
    "\n",
    "## Description \n",
    "Analyser les performances financières des entreprises technologiques en utilisant les rapports financiers publics pour prédire la croissance future.\n",
    "\n",
    "## Outils\n",
    "- Python (pandas, scikit-learn)\n",
    "- Tableau\n",
    "- API de Yahoo Finance\n"
   ]
  },
  {
   "cell_type": "code",
   "metadata": {},
   "source": [
    "# Importer les bibliothèques nécessaires\n",
    "import pandas as pd\n",
    "import numpy as np\n",
    "from sklearn.model_selection import train_test_split\n",
    "from sklearn.linear_model import LinearRegression\n",
    "from sklearn.metrics import mean_squared_error\n",
    "import yfinance as yf\n"
   ]
  },
  {
   "cell_type": "markdown",
   "metadata": {},
   "source": [
    "## Étape 1: Récupérer les données financières des entreprises technologiques\n",
    "Utiliser l'API de Yahoo Finance pour télécharger les données financières."
   ]
  },
  {
   "cell_type": "code",
   "metadata": {},
   "source": [
    "# Télécharger les données financières pour une entreprise spécifique (par exemple, Apple)\n",
    "ticker = 'AAPL'\n",
    "data = yf.download(ticker, start='2010-01-01', end='2023-01-01')\n",
    "data.head()"
   ]
  },
  {
   "cell_type": "markdown",
   "metadata": {},
   "source": [
    "## Étape 2: Préparer les données\n",
    "Nettoyer et préparer les données pour l'analyse."
   ]
  },
  {
   "cell_type": "code",
   "metadata": {},
   "source": [
    "# Nettoyer les données\n",
    "data = data.dropna()\n",
    "data['Return'] = data['Adj Close'].pct_change()\n",
    "data = data.dropna()\n",
    "data.head()"
   ]
  },
  {
   "cell_type": "markdown",
   "metadata": {},
   "source": [
    "## Étape 3: Analyse exploratoire des données (EDA)\n",
    "Analyser les données pour identifier les tendances et les relations."
   ]
  },
  {
   "cell_type": "code",
   "metadata": {},
   "source": [
    "# Statistiques descriptives\n",
    "data.describe()"
   ]
  },
  {
   "cell_type": "code",
   "metadata": {},
   "source": [
    "# Visualisation des tendances des prix\n",
    "import matplotlib.pyplot as plt\n",
    "\n",
    "plt.figure(figsize=(14, 7))\n",
    "plt.plot(data['Adj Close'])\n",
    "plt.title(f'Tendance des prix ajustés de {ticker}')\n",
    "plt.xlabel('Date')\n",
    "plt.ylabel('Prix ajusté')\n",
    "plt.show()"
   ]
  },
  {
   "cell_type": "markdown",
   "metadata": {},
   "source": [
    "## Étape 4: Modélisation prédictive\n",
    "Utiliser les modèles de régression pour prédire la croissance future."
   ]
  },
  {
   "cell_type": "code",
   "metadata": {},
   "source": [
    "# Diviser les données en ensembles d'entraînement et de test\n",
    "X = data[['Open', 'High', 'Low', 'Close', 'Volume']]\n",
    "y = data['Return']\n",
    "X_train, X_test, y_train, y_test = train_test_split(X, y, test_size=0.2, random_state=42)\n"
   ]
  },
  {
   "cell_type": "code",
   "metadata": {},
   "source": [
    "# Entraîner le modèle de régression linéaire\n",
    "model = LinearRegression()\n",
    "model.fit(X_train, y_train)\n"
   ]
  },
  {
   "cell_type": "code",
   "metadata": {},
   "source": [
    "# Prédire sur l'ensemble de test\n",
    "y_pred = model.predict(X_test)\n",
    "\n",
    "# Calculer l'erreur quadratique moyenne\n",
    "mse = mean_squared_error(y_test, y_pred)\n",
    "print(f'Erreur quadratique moyenne: {mse}')"
   ]
  },
  {
   "cell_type": "markdown",
   "metadata": {},
   "source": [
    "## Étape 5: Visualisation des résultats\n",
    "Utiliser Tableau pour visualiser les résultats de l'analyse."
   ]
  },
  {
   "cell_type": "markdown",
   "metadata": {},
   "source": [
    "Exporter les données traitées et les prédictions pour les visualiser dans Tableau."
   ]
  },
  {
   "cell_type": "code",
   "metadata": {},
   "source": [
    "# Exporter les données\n",
    "data['Prediction'] = model.predict(X)\n",
    "data.to_csv('data_predicted.csv')"
   ]
  }
 ],
 "metadata": {
  "kernelspec": {
   "display_name": "Python 3",
   "language": "python",
   "name": "python3"
  },
  "language_info": {
   "codemirror_mode": {
    "name": "ipython",
    "version": 3
   },
   "file_extension": ".py",
   "mimetype": "text/x-python",
   "name": "python",
   "nbconvert_exporter": "python",
   "pygments_lexer": "ipython3",
   "version": "3.8.5"
  }
 },
 "nbformat": 4,
 "nbformat_minor": 4
}
